{
 "cells": [
  {
   "cell_type": "markdown",
   "id": "efd61241-2dfb-4b78-8c7e-58a2cea788be",
   "metadata": {},
   "source": [
    "Żeby w pythonie stworzyć funkcję trzeba do tego użyć słówka \"def\"."
   ]
  },
  {
   "cell_type": "code",
   "execution_count": 1,
   "id": "c5d9c1e8-f003-422c-bbf5-ade70fba1540",
   "metadata": {},
   "outputs": [],
   "source": [
    "def dodawanie(a, b):\n",
    "    result = a + b\n",
    "    return result"
   ]
  },
  {
   "cell_type": "markdown",
   "id": "72406326-e943-40ce-8592-50c36a0a63f3",
   "metadata": {},
   "source": [
    "Żeby wywołać funkcję musimy wypisać jej nazwę z dwoma nawiasami, jeśli w nawiasach powinny być argumenty to należy je podać."
   ]
  },
  {
   "cell_type": "code",
   "execution_count": 2,
   "id": "4c820fe6-4d26-4912-85a5-0d155eede2ec",
   "metadata": {},
   "outputs": [
    {
     "data": {
      "text/plain": [
       "4"
      ]
     },
     "execution_count": 2,
     "metadata": {},
     "output_type": "execute_result"
    }
   ],
   "source": [
    "dodawanie(1, 3)"
   ]
  }
 ],
 "metadata": {
  "kernelspec": {
   "display_name": "Python 3 (ipykernel)",
   "language": "python",
   "name": "python3"
  },
  "language_info": {
   "codemirror_mode": {
    "name": "ipython",
    "version": 3
   },
   "file_extension": ".py",
   "mimetype": "text/x-python",
   "name": "python",
   "nbconvert_exporter": "python",
   "pygments_lexer": "ipython3",
   "version": "3.12.3"
  }
 },
 "nbformat": 4,
 "nbformat_minor": 5
}
